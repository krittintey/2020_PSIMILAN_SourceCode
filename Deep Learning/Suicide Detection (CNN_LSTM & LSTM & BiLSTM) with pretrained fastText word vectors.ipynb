{
 "cells": [
  {
   "cell_type": "code",
   "execution_count": 1,
   "metadata": {},
   "outputs": [],
   "source": [
    "import warnings\n",
    "warnings.filterwarnings(\"ignore\")\n",
    "import ftfy\n",
    "import matplotlib.pyplot as plt\n",
    "import nltk\n",
    "import numpy as np\n",
    "import pandas as pd\n",
    "import re\n",
    "\n",
    "from math import exp\n",
    "from numpy import sign\n",
    "\n",
    "from sklearn.metrics import  classification_report, confusion_matrix, accuracy_score\n",
    "from gensim.models import KeyedVectors\n",
    "from nltk.corpus import stopwords\n",
    "from nltk import PorterStemmer\n",
    "\n",
    "from keras.models import Model, Sequential\n",
    "from keras.callbacks import EarlyStopping, ModelCheckpoint, ReduceLROnPlateau\n",
    "from keras.layers import Conv1D, Dense, Input, LSTM, Embedding, Dropout, Activation, MaxPooling1D, GRU, Bidirectional\n",
    "from keras.preprocessing.text import Tokenizer\n",
    "from keras.preprocessing.sequence import pad_sequences\n",
    "from keras.utils import plot_model"
   ]
  },
  {
   "cell_type": "code",
   "execution_count": 2,
   "metadata": {},
   "outputs": [],
   "source": [
    "df = pd.read_csv('../Dataset/Twitter_Suicide_Data_new.csv')"
   ]
  },
  {
   "cell_type": "code",
   "execution_count": 3,
   "metadata": {},
   "outputs": [
    {
     "data": {
      "text/html": [
       "<div>\n",
       "<style scoped>\n",
       "    .dataframe tbody tr th:only-of-type {\n",
       "        vertical-align: middle;\n",
       "    }\n",
       "\n",
       "    .dataframe tbody tr th {\n",
       "        vertical-align: top;\n",
       "    }\n",
       "\n",
       "    .dataframe thead th {\n",
       "        text-align: right;\n",
       "    }\n",
       "</style>\n",
       "<table border=\"1\" class=\"dataframe\">\n",
       "  <thead>\n",
       "    <tr style=\"text-align: right;\">\n",
       "      <th></th>\n",
       "      <th>Id</th>\n",
       "      <th>Content</th>\n",
       "      <th>Sentiment</th>\n",
       "    </tr>\n",
       "  </thead>\n",
       "  <tbody>\n",
       "    <tr>\n",
       "      <th>0</th>\n",
       "      <td>4.964062e+07</td>\n",
       "      <td>The end.</td>\n",
       "      <td>Negative</td>\n",
       "    </tr>\n",
       "    <tr>\n",
       "      <th>1</th>\n",
       "      <td>4.350528e+07</td>\n",
       "      <td>GOD OVER EVERYTHING.</td>\n",
       "      <td>Negative</td>\n",
       "    </tr>\n",
       "    <tr>\n",
       "      <th>2</th>\n",
       "      <td>4.350528e+07</td>\n",
       "      <td>I'm sorry.</td>\n",
       "      <td>Negative</td>\n",
       "    </tr>\n",
       "    <tr>\n",
       "      <th>3</th>\n",
       "      <td>4.350528e+07</td>\n",
       "      <td>God... please forgive me.</td>\n",
       "      <td>Negative</td>\n",
       "    </tr>\n",
       "    <tr>\n",
       "      <th>4</th>\n",
       "      <td>4.350528e+07</td>\n",
       "      <td>This day couldn't get any worse...</td>\n",
       "      <td>Negative</td>\n",
       "    </tr>\n",
       "    <tr>\n",
       "      <th>...</th>\n",
       "      <td>...</td>\n",
       "      <td>...</td>\n",
       "      <td>...</td>\n",
       "    </tr>\n",
       "    <tr>\n",
       "      <th>298</th>\n",
       "      <td>9.334510e+17</td>\n",
       "      <td>endless pain in life,end it</td>\n",
       "      <td>Negative</td>\n",
       "    </tr>\n",
       "    <tr>\n",
       "      <th>299</th>\n",
       "      <td>9.368910e+17</td>\n",
       "      <td>lets ave a lot of fun</td>\n",
       "      <td>Positive</td>\n",
       "    </tr>\n",
       "    <tr>\n",
       "      <th>300</th>\n",
       "      <td>9.123420e+17</td>\n",
       "      <td>Nothing left in this world for me,i want to die</td>\n",
       "      <td>Negative</td>\n",
       "    </tr>\n",
       "    <tr>\n",
       "      <th>301</th>\n",
       "      <td>9.368910e+17</td>\n",
       "      <td>I am successful in life</td>\n",
       "      <td>Positive</td>\n",
       "    </tr>\n",
       "    <tr>\n",
       "      <th>302</th>\n",
       "      <td>9.368910e+17</td>\n",
       "      <td>End my life</td>\n",
       "      <td>Negative</td>\n",
       "    </tr>\n",
       "  </tbody>\n",
       "</table>\n",
       "<p>303 rows × 3 columns</p>\n",
       "</div>"
      ],
      "text/plain": [
       "               Id                                          Content Sentiment\n",
       "0    4.964062e+07                                         The end.  Negative\n",
       "1    4.350528e+07                             GOD OVER EVERYTHING.  Negative\n",
       "2    4.350528e+07                                       I'm sorry.  Negative\n",
       "3    4.350528e+07                        God... please forgive me.  Negative\n",
       "4    4.350528e+07               This day couldn't get any worse...  Negative\n",
       "..            ...                                              ...       ...\n",
       "298  9.334510e+17                      endless pain in life,end it  Negative\n",
       "299  9.368910e+17                            lets ave a lot of fun  Positive\n",
       "300  9.123420e+17  Nothing left in this world for me,i want to die  Negative\n",
       "301  9.368910e+17                          I am successful in life  Positive\n",
       "302  9.368910e+17                                      End my life  Negative\n",
       "\n",
       "[303 rows x 3 columns]"
      ]
     },
     "execution_count": 3,
     "metadata": {},
     "output_type": "execute_result"
    }
   ],
   "source": [
    "df"
   ]
  },
  {
   "cell_type": "code",
   "execution_count": 4,
   "metadata": {},
   "outputs": [],
   "source": [
    "from sklearn.model_selection import train_test_split\n",
    "df_train, df_test = train_test_split(df, test_size=0.2, random_state=42)"
   ]
  },
  {
   "cell_type": "code",
   "execution_count": 5,
   "metadata": {},
   "outputs": [],
   "source": [
    "from sklearn.model_selection import train_test_split\n",
    "df_train, df_val = train_test_split(df_train, test_size=0.2, random_state=42)"
   ]
  },
  {
   "cell_type": "code",
   "execution_count": 6,
   "metadata": {},
   "outputs": [
    {
     "name": "stdout",
     "output_type": "stream",
     "text": [
      "Counter({'Negative': 111, 'Positive': 82})\n",
      "Counter({'Negative': 40, 'Positive': 21})\n",
      "Counter({'Positive': 25, 'Negative': 24})\n"
     ]
    }
   ],
   "source": [
    "from collections import Counter\n",
    "\n",
    "print(Counter(df_train['Sentiment']))\n",
    "print(Counter(df_test['Sentiment']))\n",
    "print(Counter(df_val['Sentiment']))"
   ]
  },
  {
   "cell_type": "code",
   "execution_count": 7,
   "metadata": {},
   "outputs": [],
   "source": [
    "encoding = { 'Negative': 0,\n",
    "    'Positive': 1,\n",
    "}\n",
    "\n",
    "y_train = np.array([encoding[key] for key in df_train['Sentiment'].values])\n",
    "y_test = np.array([encoding[key] for key in df_test['Sentiment'].values])\n",
    "y_val = np.array([encoding[key] for key in df_val['Sentiment'].values])"
   ]
  },
  {
   "cell_type": "code",
   "execution_count": 8,
   "metadata": {},
   "outputs": [],
   "source": [
    "EMBEDDING_FILE = 'wiki-news-300d-1M.vec'\n",
    "word2vec = KeyedVectors.load_word2vec_format(EMBEDDING_FILE, binary=False)"
   ]
  },
  {
   "cell_type": "code",
   "execution_count": 9,
   "metadata": {},
   "outputs": [],
   "source": [
    "import nltk\n",
    "# Uncomment to download \"stopwords\"\n",
    "#nltk.download(\"stopwords\")\n",
    "from nltk.corpus import stopwords\n",
    "\n",
    "def text_preprocessing(s):\n",
    "    \"\"\"\n",
    "    - Lowercase the sentence\n",
    "    - Change \"'t\" to \"not\"\n",
    "    - Remove \"@name\"\n",
    "    - Isolate and remove punctuations except \"?\"\n",
    "    - Remove other special characters\n",
    "    - Remove stop words except \"not\" and \"can\"\n",
    "    - Remove trailing whitespace\n",
    "    \"\"\"\n",
    "    s = s.lower()\n",
    "    # Change 't to 'not'\n",
    "    s = re.sub(r\"\\'t\", \" not\", s)\n",
    "    # Remove @name\n",
    "    s = re.sub(r'(@.*?)[\\s]', ' ', s)\n",
    "    # Isolate and remove punctuations except '?'\n",
    "    s = re.sub(r'([\\'\\\"\\.\\(\\)\\!\\?\\\\\\/\\,])', r' \\1 ', s)\n",
    "    s = re.sub(r'[^\\w\\s\\?]', ' ', s)\n",
    "    # Remove some special characters\n",
    "    s = re.sub(r'([\\;\\:\\|•«\\n])', ' ', s)\n",
    "    # Remove stopwords except 'not' and 'can'\n",
    "    s = \" \".join([word for word in s.split()\n",
    "                  if word not in stopwords.words('english')\n",
    "                  or word in ['not', 'can']])\n",
    "    # Remove trailing whitespace\n",
    "    s = re.sub(r'\\s+', ' ', s).strip()\n",
    "    \n",
    "    return s"
   ]
  },
  {
   "cell_type": "code",
   "execution_count": 10,
   "metadata": {},
   "outputs": [],
   "source": [
    "import re\n",
    "\n",
    "# Preprocess text\n",
    "X_train_preprocessed = [text_preprocessing(text) for text in df_train['Content'].values]\n",
    "X_val_preprocessed = [text_preprocessing(text) for text in df_val['Content'].values]\n",
    "X_test_preprocessed = [text_preprocessing(text) for text in df_test['Content'].values]"
   ]
  },
  {
   "cell_type": "code",
   "execution_count": 11,
   "metadata": {},
   "outputs": [
    {
     "data": {
      "text/plain": [
       "['rt gotta love can properly love someone else',\n",
       " 'looks dejected sad http co 3nivkahtho',\n",
       " 'think would better ended',\n",
       " 'believed guy sent threatening emails roger williams law school earlier today',\n",
       " 'rt congratulations taking asia regional finals title thanks giving',\n",
       " 'sounds pretty fine pleased hear creepy cup tea',\n",
       " 'rt makes heart full joy god faithful congrats https co iyci1ssx2u',\n",
       " 'rt feeling going great day got meet john stockton game',\n",
       " 'feeling hopeless n want 2 die not like matters anyways 1 cares',\n",
       " 'rt sometimes ifeel like family would better without',\n",
       " 'ways positive thinking https co phcdr0voym https co e5iedwwlif',\n",
       " 'true say start thinking positive happier',\n",
       " 'rt one year retirement hope enjoying busy pensioner life https co ivepmoqv07',\n",
       " 'suga suran one stage kill kill',\n",
       " 'rt congratulations gorb graduating middle school hope strive greatness like cod4',\n",
       " 'rt armys win lose reward youself deserve not beat love',\n",
       " 'rt baha world celebrating bicentenary birth baha u llah',\n",
       " 'believe positive thinking life beautiful thing motivation',\n",
       " 'rt real life enjoying lil things matters',\n",
       " 'god please forgive',\n",
       " 'keep good work',\n",
       " 'rt swear move forward get ahead life',\n",
       " 'hopeless awkward desperate',\n",
       " 'amazing people life encourage nothing except positive thank lord blessing',\n",
       " 'rt okay proud progress even not exactly want getting',\n",
       " 'rt seems family would better much happier without',\n",
       " 'hello sir today felt depressed coz first mba accounts exam not good',\n",
       " 'live best life',\n",
       " 'noreen suicidal lang ? cutting wrist hahaha x',\n",
       " 'rt 2 wins 2 weeks congratulations machine',\n",
       " 'end',\n",
       " 'learn love first happy alone one love happy can not even facts',\n",
       " 'pastor plz pray depressed',\n",
       " 'given today composing kind text http co lmpddergb5',\n",
       " 'indirect suicide ?',\n",
       " 'im starting think family would better ultimately without fuckup moreharmthangood',\n",
       " 'day not get worse',\n",
       " 'rt ? ? ? die want http co 93wdzdq0ke',\n",
       " 'heavy hearted today ripmom ripryan ? ? ? ? ? ?',\n",
       " 'one ever driven point suicide especially not done nothing cared',\n",
       " 'rt heartbroken prayers go family friends ? ? magconmaddie http co ergb3tweke',\n",
       " 'embarrassing wish dead',\n",
       " 'kashdoll said yall hoes kill always want next bitch issue bitch want life dont know',\n",
       " 'really sick tired life',\n",
       " 'love happy moments',\n",
       " 'love everyone friends',\n",
       " 'great feeling never gave well done kept cool head weekend age nothing https co gdfhwwsk2s',\n",
       " 'lets ave lot fun',\n",
       " 'really want enjoy life',\n",
       " 'rt staying active one important ingredients healthy life',\n",
       " 'happy birthday talented gal hope full joy',\n",
       " 'god everything',\n",
       " 'bad habits difficult identify work life careerinspiration careergrowth habits',\n",
       " 'need love',\n",
       " 'sorry',\n",
       " 'rt indirect tweets cowardly tweet direct indirect indirectly courageously',\n",
       " 'read allegiant ? veronica ? kill ? sad depressed read tris died',\n",
       " '? ? ? ? ? ? ? suicide attack ? ? ? ? ? ? ? ? ? ? ? ? ? ? ? ? ? ? ? ? ? ? ? ? ? ? ? ? ? ? ? ? ? ? ? ? ? ? ? ? ? ? ? ? ? ? ? ? ? ? ? ? ? ? ? ? ? ? ? ?',\n",
       " 'movie got kids depressed disoriented like way ?',\n",
       " 'end life',\n",
       " 'rt even not got paper bring motivation table',\n",
       " 'done stress',\n",
       " 'stream died want',\n",
       " 'depressed go sorry gone',\n",
       " 'rt sorry gone rt gonna miss gone',\n",
       " 'well tried live without tears fall eyes alone feel empty god torn apart inside',\n",
       " 'right interview woman working end sexual harassment metro transit systems get harassed metro sounds right',\n",
       " 'rt think ought know feeling depressed',\n",
       " 'wanna get away not know not want leave sad badday depressed tired http co lhkgwk6qap',\n",
       " 'rt hardest times often lead greatest moments life keep faith worth end',\n",
       " 'think suicide',\n",
       " 'love happy music',\n",
       " 'rt sometimes life amp love situations order move ahead give vulnerable amp',\n",
       " 'music reduces anxiety also helps mind body get stressful times',\n",
       " 'family would better without anyway',\n",
       " 'congratulations king',\n",
       " 'heavy hearted',\n",
       " 'kill',\n",
       " 'rt dominating performance let celebrations begin best wishes games ahead',\n",
       " 'one understands life leaving',\n",
       " 'hate evey thing around',\n",
       " 'rt indirect tweets cowardly tweet direct indirect indirectly courageously',\n",
       " 'world got right path celebrating matri pitri pujan diwas started bapuji',\n",
       " 'love',\n",
       " 'liked ryder quite awhile amp good see perform televised fight loving',\n",
       " 'rt celebrating another sundevil big win boyz playmakerz',\n",
       " 'ever write lesson plan group gonna kill',\n",
       " 'life short man couldnt stress enough important live love peace good energy',\n",
       " 'rt true love anyone heart desires nationalcomingoutday https co uxuuad3nax',\n",
       " 'family would probably better without',\n",
       " 'rt fun amp games throwing hotcheetos https co wfnqhu3vaa',\n",
       " 'not want wake tomorrow world not meant really life online',\n",
       " 'feel not good enough human times deserve nothing less die pay truths',\n",
       " 'rt love see palestinians dancing fun good amp positive stories deserve go viral well',\n",
       " 'hate self n want die',\n",
       " 'plan turn 18 kill',\n",
       " 'inspiringvanessa born live life not someone else',\n",
       " 'rt love',\n",
       " 'life really not worth living ? ?',\n",
       " 'die want face last thing see',\n",
       " 'wow jaggoff drink budlight get grip leave parents talk yo mama',\n",
       " 'free ideation 9 months thinking suicide',\n",
       " 'rt stop stressing school enjoy life live moment',\n",
       " 'something always wanted try ? hm cutting wrist ? not eating till get super thin ? jk ha http co 0spvugmr9o',\n",
       " 'suicide',\n",
       " 'woken pleased good match ?',\n",
       " 'everyone around friends family would much better without',\n",
       " 'rt girl wanna look good pregnant lol congratulations beautiful hope girl can like u',\n",
       " 'shamefaced',\n",
       " 'rt loneliness feeling lately hurts',\n",
       " 'always love first can love anyone else always put self first bc end still',\n",
       " 'love love everything',\n",
       " 'rt makes heart full joy god faithful congrats https co iyci1ssx2u',\n",
       " 'want die',\n",
       " 'rt depressed ever',\n",
       " 'family would better without',\n",
       " 'rt indian roller bird considered auspicious india incredibleindia tigrissafaris photooftheday wildlifephoto',\n",
       " 'rt weather makes wish dead',\n",
       " 'feel like ending life not worth living without',\n",
       " 'work two jobs school gotta car apartment boo life going good right 19',\n",
       " 'paxton fans keep good work young lady really talented',\n",
       " 'congratulations john creepy actor not sweet actor',\n",
       " 'reproachful b tch',\n",
       " 'rt cheers wonderful years highlight happy 8th anniversary guys celebrate_highlight',\n",
       " 'happy birthday big guy keep good work brandon_leach7',\n",
       " 'rt depression want die',\n",
       " 'full harassing end school',\n",
       " 'knowing something resist umbridge ministry gave harry feeling immense satisfaction',\n",
       " 'rt patriarchyis fear fatness idealization whiteness quashing sexuality colonization agency',\n",
       " 'rt ask really important courage build life around answer',\n",
       " 'focus opportunities focus money',\n",
       " 'one fretful nights hoping today goes well sword damocles hanging reason',\n",
       " 'rt always thanks sooo much dearest marie time full love joy sleep well',\n",
       " 'loving read vr love',\n",
       " 'want commit suicide not want painful',\n",
       " 'stress kill',\n",
       " 'great time life can help design amazing wedding',\n",
       " 'anxiety killing',\n",
       " 'may live every day life jonathan swift',\n",
       " 'shoot',\n",
       " 'loving n line moment bank balance liking great style made affordable style shopping',\n",
       " 'ehret tripping cutting wrist shit hanging self dope',\n",
       " 'rt 2 wins 2 weeks congratulations machine',\n",
       " 'rt one fretful nights hoping today goes well sword damocles hanging reason',\n",
       " 'work others happy',\n",
       " 'love u',\n",
       " 'hella anxious',\n",
       " 'rt patriarchyis fear fatness idealization whiteness quashing sexuality colonization agency',\n",
       " 'feel like way longer carry pain die',\n",
       " 'threatening emails yelp best',\n",
       " 'family would probably better without ? ? not say ? ? ? ?',\n",
       " 'day ? ? isolated status',\n",
       " 'rt know think sad cowboys not play today day team can not lose occasion worth celebrate',\n",
       " 'rt die want http co kmdzeqibaj',\n",
       " 'heavy hearted',\n",
       " 'hate disgusting world want die',\n",
       " 'love happy love songs',\n",
       " 'rt daughter delighted see assistant referee today hair like mine can referee ?',\n",
       " 'really sick tired life see point',\n",
       " 'wake night alone wait not doubt meet see not lose waltwhitman',\n",
       " 'need leave alone scare away',\n",
       " 'nothing life brings joy anymore can not see future really want die',\n",
       " 'depressed go sorry gone',\n",
       " 'rt holy mother god full joy thank valentinifrank',\n",
       " 'heavy hearted heavy hearted',\n",
       " 'kill',\n",
       " 'depression killing',\n",
       " 'sorry gone',\n",
       " 'wish dead',\n",
       " 'learning enjoy life not fear',\n",
       " 'rt yeah well math made want fucking kill not yall pull curriculum https co gvgeahp',\n",
       " 'family would better without',\n",
       " 'sometimes desire driving knife heart',\n",
       " 'rt fun day https co jr18utkfx4',\n",
       " 'colleen amp begin 35 years marriage today still love wife amp best friend great celebrating amp trishhthedish',\n",
       " 'since 3 work please kill',\n",
       " 'jesus christ wanted support can not even ask unless going kill',\n",
       " 'sorry gone',\n",
       " 'fucku lol shoot one',\n",
       " 'hey guys back home today kind cheerless want go bed sleep',\n",
       " 'rt enjoy spice life try hotpot shining star sichuan cuisine',\n",
       " 'rt loving caring person',\n",
       " 'people kill',\n",
       " 'kill',\n",
       " 'fear stops courage keeps going',\n",
       " 'love happy people',\n",
       " 'rt kill',\n",
       " 'want suspension',\n",
       " 'according internet troll harassing threatening family last 4 years http co jdmazslwjv',\n",
       " 'rt enjoy life remember grateful little things kind people around follow heart',\n",
       " 'alone wipping tears eyes someday feels like dying gets sick crying',\n",
       " 'jaggoff performs exorcisms skype power christ compels dbolelli',\n",
       " 'feel alone']"
      ]
     },
     "execution_count": 11,
     "metadata": {},
     "output_type": "execute_result"
    }
   ],
   "source": [
    "X_train_preprocessed"
   ]
  },
  {
   "cell_type": "code",
   "execution_count": 12,
   "metadata": {},
   "outputs": [
    {
     "name": "stdout",
     "output_type": "stream",
     "text": [
      "Found 767 unique tokens\n"
     ]
    }
   ],
   "source": [
    "MAX_NB_WORDS = 20000\n",
    "tokenizer = Tokenizer(num_words=MAX_NB_WORDS)\n",
    "tokenizer.fit_on_texts(X_train_preprocessed + X_val_preprocessed)\n",
    "\n",
    "sequences_train = tokenizer.texts_to_sequences(X_train_preprocessed)\n",
    "sequences_val = tokenizer.texts_to_sequences(X_val_preprocessed)\n",
    "sequences_test = tokenizer.texts_to_sequences(X_test_preprocessed)\n",
    "\n",
    "word_index = tokenizer.word_index\n",
    "print('Found %s unique tokens' % len(word_index))"
   ]
  },
  {
   "cell_type": "code",
   "execution_count": 13,
   "metadata": {},
   "outputs": [
    {
     "name": "stdout",
     "output_type": "stream",
     "text": [
      "Shape of data tensor: (193, 140)\n"
     ]
    }
   ],
   "source": [
    "MAX_SEQUENCE_LENGTH = 140\n",
    "data_train = pad_sequences(sequences_train, maxlen=MAX_SEQUENCE_LENGTH)\n",
    "data_val = pad_sequences(sequences_val, maxlen=MAX_SEQUENCE_LENGTH)\n",
    "data_test = pad_sequences(sequences_test, maxlen=MAX_SEQUENCE_LENGTH)\n",
    "\n",
    "print('Shape of data tensor:', data_train.shape)"
   ]
  },
  {
   "cell_type": "code",
   "execution_count": 14,
   "metadata": {},
   "outputs": [],
   "source": [
    "EMBEDDING_DIM = 300\n",
    "nb_words = min(MAX_NB_WORDS, len(word_index))\n",
    "\n",
    "embedding_matrix = np.zeros((len(word_index)+1, EMBEDDING_DIM))"
   ]
  },
  {
   "cell_type": "code",
   "execution_count": 15,
   "metadata": {},
   "outputs": [],
   "source": [
    "for (word, idx) in word_index.items():\n",
    "    if word in word2vec.vocab and idx < len(word_index):\n",
    "        embedding_matrix[idx] = word2vec.word_vec(word)"
   ]
  },
  {
   "cell_type": "code",
   "execution_count": 16,
   "metadata": {},
   "outputs": [
    {
     "name": "stdout",
     "output_type": "stream",
     "text": [
      "[[ 0.          0.          0.         ...  0.          0.\n",
      "   0.        ]\n",
      " [-0.0286      0.1001     -0.1847     ... -0.0407      0.1\n",
      "  -0.0809    ]\n",
      " [ 0.0652     -0.0034     -0.0353     ...  0.15979999 -0.0594\n",
      "  -0.0351    ]\n",
      " ...\n",
      " [-0.0787     -0.043      -0.15970001 ...  0.17739999  0.1245\n",
      "   0.075     ]\n",
      " [-0.0591     -0.0787      0.14219999 ...  0.1741     -0.1155\n",
      "  -0.0647    ]\n",
      " [ 0.          0.          0.         ...  0.          0.\n",
      "   0.        ]]\n",
      "(768, 300)\n"
     ]
    }
   ],
   "source": [
    "print(embedding_matrix)\n",
    "print(embedding_matrix.shape)"
   ]
  },
  {
   "cell_type": "code",
   "execution_count": 17,
   "metadata": {},
   "outputs": [
    {
     "name": "stdout",
     "output_type": "stream",
     "text": [
      "[[  0   0   0 ...   4  67  88]\n",
      " [  0   0   0 ...  20   6 260]\n",
      " [  0   0   0 ...  15  16 261]\n",
      " ...\n",
      " [  0   0   0 ... 642 104 643]\n",
      " [  0   0   0 ... 242 648 649]\n",
      " [  0   0   0 ...   0  64  39]]\n",
      "[[  0   0   0 ... 241  99 652]\n",
      " [  0   0   0 ...   0 653  39]\n",
      " [  0   0   0 ...  48  26  35]\n",
      " ...\n",
      " [  0   0   0 ...  31 762 763]\n",
      " [  0   0   0 ...  21 765   3]\n",
      " [  0   0   0 ... 766   2 767]]\n",
      "[[  0   0   0 ...  70  76  72]\n",
      " [  0   0   0 ...  21   5  32]\n",
      " [  0   0   0 ...   0   0  34]\n",
      " ...\n",
      " [  0   0   0 ...  72   5  10]\n",
      " [  0   0   0 ... 147  98   2]\n",
      " [  0   0   0 ...   1 128  38]]\n",
      "[1 0 0 0 1 1 1 1 0 0 1 1 1 0 1 1 1 1 1 0 1 1 0 1 1 0 0 1 0 1 0 1 0 0 0 0 0\n",
      " 0 0 1 0 0 0 0 1 1 1 1 1 1 1 0 1 1 0 0 0 0 0 0 1 0 0 0 0 0 0 0 0 1 0 1 1 1\n",
      " 0 1 0 0 1 0 0 0 1 1 1 1 0 1 1 0 1 0 0 1 0 0 1 1 0 0 0 0 1 0 0 1 0 1 0 0 1\n",
      " 1 1 0 0 0 1 0 0 1 1 1 0 1 1 0 0 1 0 1 1 0 1 1 0 0 1 0 1 0 1 0 1 0 1 1 0 0\n",
      " 0 0 0 0 1 0 0 0 1 1 0 0 0 0 0 1 0 0 0 0 0 1 0 0 0 1 1 0 0 0 0 0 1 1 0 0 1\n",
      " 1 0 0 0 1 0 0 0]\n",
      "[1 0 0 1 1 0 1 0 1 0 1 1 1 1 0 0 1 0 1 0 0 1 1 1 0 1 0 1 1 1 1 1 0 0 1 0 1\n",
      " 0 1 0 1 0 0 0 0 0 1 0 0]\n",
      "[1 0 1 1 0 0 1 0 0 0 0 0 0 1 1 0 1 1 0 0 1 0 0 0 1 1 1 0 0 1 1 0 1 0 0 1 0\n",
      " 0 0 0 0 0 1 1 0 1 0 0 0 0 0 1 0 0 0 0 0 0 0 0 1]\n"
     ]
    }
   ],
   "source": [
    "print(data_train)\n",
    "print(data_val)\n",
    "print(data_test)\n",
    "print(y_train)\n",
    "print(y_val)\n",
    "print(y_test)"
   ]
  },
  {
   "cell_type": "code",
   "execution_count": 34,
   "metadata": {},
   "outputs": [],
   "source": [
    "from keras import backend as K \n",
    "\n",
    "# Do some code, e.g. train and save model\n",
    "\n",
    "K.clear_session()"
   ]
  },
  {
   "cell_type": "code",
   "execution_count": 19,
   "metadata": {},
   "outputs": [
    {
     "name": "stdout",
     "output_type": "stream",
     "text": [
      "Model: \"sequential\"\n",
      "_________________________________________________________________\n",
      "Layer (type)                 Output Shape              Param #   \n",
      "=================================================================\n",
      "embedding (Embedding)        (None, 140, 300)          230400    \n",
      "_________________________________________________________________\n",
      "conv1d (Conv1D)              (None, 140, 32)           28832     \n",
      "_________________________________________________________________\n",
      "max_pooling1d (MaxPooling1D) (None, 70, 32)            0         \n",
      "_________________________________________________________________\n",
      "dropout (Dropout)            (None, 70, 32)            0         \n",
      "_________________________________________________________________\n",
      "lstm (LSTM)                  (None, 300)               399600    \n",
      "_________________________________________________________________\n",
      "dropout_1 (Dropout)          (None, 300)               0         \n",
      "_________________________________________________________________\n",
      "dense (Dense)                (None, 1)                 301       \n",
      "=================================================================\n",
      "Total params: 659,133\n",
      "Trainable params: 428,733\n",
      "Non-trainable params: 230,400\n",
      "_________________________________________________________________\n",
      "None\n"
     ]
    }
   ],
   "source": [
    "import tensorflow as tf\n",
    "with tf.device('/device:GPU:1'):\n",
    "    model = Sequential()\n",
    "    # Embedded layer\n",
    "    model.add(Embedding(len(embedding_matrix), EMBEDDING_DIM, weights=[embedding_matrix],\n",
    "                                input_length=MAX_SEQUENCE_LENGTH, trainable=False))\n",
    "    # Convolutional Layer\n",
    "    model.add(Conv1D(filters=32, kernel_size=3, padding='same', activation='relu'))\n",
    "    model.add(MaxPooling1D(pool_size=2))\n",
    "    #model.add(GlobalAveragePooling1D())\n",
    "    model.add(Dropout(0.2))\n",
    "    #model.add(Dense(10, activation='relu'))\n",
    "    # LSTM Layer\n",
    "    model.add(LSTM(300))\n",
    "    #model.add(GRU(300))\n",
    "    model.add(Dropout(0.2))\n",
    "    model.add(Dense(1, activation='sigmoid'))\n",
    "\n",
    "    model.compile(loss='binary_crossentropy', optimizer='nadam', metrics=['acc'])\n",
    "    print(model.summary())"
   ]
  },
  {
   "cell_type": "code",
   "execution_count": 20,
   "metadata": {},
   "outputs": [
    {
     "name": "stdout",
     "output_type": "stream",
     "text": [
      "Epoch 1/20\n",
      "7/7 [==============================] - 0s 52ms/step - loss: 0.6876 - acc: 0.5855 - val_loss: 0.6630 - val_acc: 0.5306\n",
      "Epoch 2/20\n",
      "7/7 [==============================] - 0s 12ms/step - loss: 0.6694 - acc: 0.5803 - val_loss: 0.6352 - val_acc: 0.6531\n",
      "Epoch 3/20\n",
      "7/7 [==============================] - 0s 11ms/step - loss: 0.6438 - acc: 0.6684 - val_loss: 0.6076 - val_acc: 0.7755\n",
      "Epoch 4/20\n",
      "7/7 [==============================] - 0s 11ms/step - loss: 0.5639 - acc: 0.8705 - val_loss: 1.5968 - val_acc: 0.4898\n",
      "Epoch 5/20\n",
      "7/7 [==============================] - 0s 12ms/step - loss: 0.6007 - acc: 0.8290 - val_loss: 0.4536 - val_acc: 0.8571\n",
      "Epoch 6/20\n",
      "7/7 [==============================] - 0s 12ms/step - loss: 0.3748 - acc: 0.9171 - val_loss: 0.4407 - val_acc: 0.7551\n",
      "Epoch 7/20\n",
      "7/7 [==============================] - 0s 13ms/step - loss: 0.2940 - acc: 0.8912 - val_loss: 0.6457 - val_acc: 0.8163\n",
      "Epoch 8/20\n",
      "7/7 [==============================] - 0s 11ms/step - loss: 0.2527 - acc: 0.9430 - val_loss: 0.3295 - val_acc: 0.8776\n",
      "Epoch 9/20\n",
      "7/7 [==============================] - 0s 11ms/step - loss: 0.1774 - acc: 0.9741 - val_loss: 0.3661 - val_acc: 0.8776\n",
      "Epoch 10/20\n",
      "7/7 [==============================] - 0s 12ms/step - loss: 0.1483 - acc: 0.9741 - val_loss: 0.5128 - val_acc: 0.8776\n",
      "Epoch 11/20\n",
      "7/7 [==============================] - 0s 12ms/step - loss: 0.1067 - acc: 0.9793 - val_loss: 0.6202 - val_acc: 0.8571\n"
     ]
    }
   ],
   "source": [
    "early_stop = EarlyStopping(monitor='val_loss', patience=3)\n",
    "#reduce_lr_on_plateau_cb = ReduceLROnPlateau(verbose = 1, factor=0.1, patience=2)\n",
    "\n",
    "with tf.device('/device:GPU:1'):\n",
    "    hist = model.fit(data_train, y_train, validation_data=(data_val, y_val), epochs=20, batch_size=32, shuffle=True, callbacks=[early_stop])"
   ]
  },
  {
   "cell_type": "code",
   "execution_count": 21,
   "metadata": {},
   "outputs": [
    {
     "data": {
      "image/png": "[encoded data removed]",
      "text/plain": [
       "<Figure size 432x288 with 1 Axes>"
      ]
     },
     "metadata": {
      "needs_background": "light"
     },
     "output_type": "display_data"
    },
    {
     "data": {
      "image/png": "[encoded data removed]",
      "text/plain": [
       "<Figure size 432x288 with 1 Axes>"
      ]
     },
     "metadata": {
      "needs_background": "light"
     },
     "output_type": "display_data"
    }
   ],
   "source": [
    "#plot_model(model, to_file='model.png')\n",
    "plt.plot(hist.history['acc'])\n",
    "plt.plot(hist.history['val_acc'])\n",
    "plt.title('model accuracy')\n",
    "plt.ylabel('accuracy')\n",
    "plt.xlabel('epoch')\n",
    "plt.legend(['train', 'validation'], loc='upper left')\n",
    "plt.show()\n",
    "\n",
    "plt.plot(hist.history['loss'])\n",
    "plt.plot(hist.history['val_loss'])\n",
    "plt.title('model loss')\n",
    "plt.ylabel('loss')\n",
    "plt.xlabel('epoch')\n",
    "plt.legend(['train', 'test'], loc='upper left')\n",
    "plt.show()"
   ]
  },
  {
   "cell_type": "code",
   "execution_count": 22,
   "metadata": {},
   "outputs": [
    {
     "name": "stdout",
     "output_type": "stream",
     "text": [
      "[[  0   0   0 ...  70  76  72]\n",
      " [  0   0   0 ...  21   5  32]\n",
      " [  0   0   0 ...   0   0  34]\n",
      " ...\n",
      " [  0   0   0 ...  72   5  10]\n",
      " [  0   0   0 ... 147  98   2]\n",
      " [  0   0   0 ...   1 128  38]]\n"
     ]
    }
   ],
   "source": [
    "print(data_test)"
   ]
  },
  {
   "cell_type": "code",
   "execution_count": 23,
   "metadata": {},
   "outputs": [
    {
     "name": "stdout",
     "output_type": "stream",
     "text": [
      "Accuracy: 96.72%\n",
      "F1 Score: 96.75\n",
      "              precision    recall  f1-score   support\n",
      "\n",
      "           0       1.00      0.95      0.97        40\n",
      "           1       0.91      1.00      0.95        21\n",
      "\n",
      "    accuracy                           0.97        61\n",
      "   macro avg       0.96      0.97      0.96        61\n",
      "weighted avg       0.97      0.97      0.97        61\n",
      "\n"
     ]
    }
   ],
   "source": [
    "from sklearn.metrics import  classification_report, confusion_matrix, accuracy_score, f1_score\n",
    "\n",
    "with tf.device('/device:GPU:1'):\n",
    "    labels_pred = model.predict(data_test)\n",
    "    labels_pred = np.round(labels_pred.flatten())\n",
    "    accuracy = accuracy_score(y_test, labels_pred)\n",
    "    f1 = f1_score(y_test, labels_pred, average='weighted')\n",
    "\n",
    "    print(\"Accuracy: %.2f%%\" % (accuracy*100))\n",
    "    print(\"F1 Score: %.2f\" % (f1*100))\n",
    "\n",
    "    print(classification_report(y_test, labels_pred))"
   ]
  },
  {
   "cell_type": "code",
   "execution_count": 24,
   "metadata": {},
   "outputs": [],
   "source": [
    "model.save('model/word2vec_CNN_LSTM-Suicide.h5')"
   ]
  },
  {
   "cell_type": "code",
   "execution_count": 25,
   "metadata": {},
   "outputs": [
    {
     "name": "stdout",
     "output_type": "stream",
     "text": [
      "Model: \"sequential_1\"\n",
      "_________________________________________________________________\n",
      "Layer (type)                 Output Shape              Param #   \n",
      "=================================================================\n",
      "embedding_1 (Embedding)      (None, 140, 300)          230400    \n",
      "_________________________________________________________________\n",
      "lstm_1 (LSTM)                (None, 300)               721200    \n",
      "_________________________________________________________________\n",
      "dropout_2 (Dropout)          (None, 300)               0         \n",
      "_________________________________________________________________\n",
      "dense_1 (Dense)              (None, 1)                 301       \n",
      "=================================================================\n",
      "Total params: 951,901\n",
      "Trainable params: 721,501\n",
      "Non-trainable params: 230,400\n",
      "_________________________________________________________________\n",
      "None\n"
     ]
    }
   ],
   "source": [
    "with tf.device('/device:GPU:1'):\n",
    "    model2 = Sequential()\n",
    "    # Embedded layer\n",
    "    model2.add(Embedding(len(embedding_matrix), EMBEDDING_DIM, weights=[embedding_matrix],\n",
    "                                input_length=MAX_SEQUENCE_LENGTH, trainable=False))\n",
    "    # Convolutional Layer\n",
    "    #model.add(Conv1D(filters=32, kernel_size=3, padding='same', activation='relu'))\n",
    "    #model.add(MaxPooling1D(pool_size=2))\n",
    "    #model.add(GlobalAveragePooling1D())\n",
    "    #model.add(Dropout(0.2))\n",
    "    #model.add(Dense(10, activation='relu'))\n",
    "    # LSTM Layer\n",
    "    model2.add(LSTM(300))\n",
    "    #model.add(GRU(300))\n",
    "    model2.add(Dropout(0.2))\n",
    "    model2.add(Dense(1, activation='sigmoid'))\n",
    "\n",
    "    model2.compile(loss='binary_crossentropy', optimizer='nadam', metrics=['acc'])\n",
    "    print(model2.summary())"
   ]
  },
  {
   "cell_type": "code",
   "execution_count": 26,
   "metadata": {},
   "outputs": [
    {
     "name": "stdout",
     "output_type": "stream",
     "text": [
      "Epoch 1/20\n",
      "7/7 [==============================] - 0s 48ms/step - loss: 0.6656 - acc: 0.6995 - val_loss: 0.6739 - val_acc: 0.4898\n",
      "Epoch 2/20\n",
      "7/7 [==============================] - 0s 15ms/step - loss: 0.5736 - acc: 0.7565 - val_loss: 0.7825 - val_acc: 0.7551\n",
      "Epoch 3/20\n",
      "7/7 [==============================] - 0s 15ms/step - loss: 0.4522 - acc: 0.8342 - val_loss: 0.4994 - val_acc: 0.7755\n",
      "Epoch 4/20\n",
      "7/7 [==============================] - 0s 14ms/step - loss: 0.3855 - acc: 0.9171 - val_loss: 0.7359 - val_acc: 0.7143\n",
      "Epoch 5/20\n",
      "7/7 [==============================] - 0s 15ms/step - loss: 0.4815 - acc: 0.7927 - val_loss: 0.4636 - val_acc: 0.7551\n",
      "Epoch 6/20\n",
      "7/7 [==============================] - 0s 13ms/step - loss: 0.3335 - acc: 0.9430 - val_loss: 0.3509 - val_acc: 0.8367\n",
      "Epoch 7/20\n",
      "7/7 [==============================] - 0s 14ms/step - loss: 0.6071 - acc: 0.8497 - val_loss: 0.4001 - val_acc: 0.8776\n",
      "Epoch 8/20\n",
      "7/7 [==============================] - 0s 13ms/step - loss: 0.2574 - acc: 0.9741 - val_loss: 0.3274 - val_acc: 0.8571\n",
      "Epoch 9/20\n",
      "7/7 [==============================] - 0s 13ms/step - loss: 0.1910 - acc: 0.9637 - val_loss: 0.3139 - val_acc: 0.8571\n",
      "Epoch 10/20\n",
      "7/7 [==============================] - 0s 13ms/step - loss: 0.2101 - acc: 0.9534 - val_loss: 0.3014 - val_acc: 0.8571\n",
      "Epoch 11/20\n",
      "7/7 [==============================] - 0s 13ms/step - loss: 0.1376 - acc: 0.9689 - val_loss: 0.6143 - val_acc: 0.8367\n",
      "Epoch 12/20\n",
      "7/7 [==============================] - 0s 14ms/step - loss: 0.1134 - acc: 0.9689 - val_loss: 0.2591 - val_acc: 0.8776\n",
      "Epoch 13/20\n",
      "7/7 [==============================] - 0s 14ms/step - loss: 0.9716 - acc: 0.8601 - val_loss: 0.2879 - val_acc: 0.9796\n",
      "Epoch 14/20\n",
      "7/7 [==============================] - 0s 14ms/step - loss: 0.2387 - acc: 0.9948 - val_loss: 0.2798 - val_acc: 0.9592\n",
      "Epoch 15/20\n",
      "7/7 [==============================] - 0s 14ms/step - loss: 0.2199 - acc: 0.9948 - val_loss: 0.2540 - val_acc: 0.9796\n",
      "Epoch 16/20\n",
      "7/7 [==============================] - 0s 14ms/step - loss: 0.1903 - acc: 0.9948 - val_loss: 0.2943 - val_acc: 0.8776\n",
      "Epoch 17/20\n",
      "7/7 [==============================] - 0s 13ms/step - loss: 0.1724 - acc: 1.0000 - val_loss: 0.2202 - val_acc: 0.9388\n",
      "Epoch 18/20\n",
      "7/7 [==============================] - 0s 13ms/step - loss: 0.1418 - acc: 0.9948 - val_loss: 0.2092 - val_acc: 0.9388\n",
      "Epoch 19/20\n",
      "7/7 [==============================] - 0s 14ms/step - loss: 0.1220 - acc: 0.9948 - val_loss: 0.1998 - val_acc: 0.9388\n",
      "Epoch 20/20\n",
      "7/7 [==============================] - 0s 14ms/step - loss: 0.1073 - acc: 0.9948 - val_loss: 0.2293 - val_acc: 0.8980\n"
     ]
    }
   ],
   "source": [
    "early_stop = EarlyStopping(monitor='val_loss', patience=3)\n",
    "#reduce_lr_on_plateau_cb = ReduceLROnPlateau(verbose = 1, factor=0.1, patience=2)\n",
    "\n",
    "with tf.device('/device:GPU:1'):\n",
    "    hist = model2.fit(data_train, y_train, validation_data=(data_val, y_val), epochs=20, batch_size=32, shuffle=True, callbacks=[early_stop])"
   ]
  },
  {
   "cell_type": "code",
   "execution_count": 27,
   "metadata": {},
   "outputs": [
    {
     "data": {
      "image/png": "[encoded data removed]",
      "text/plain": [
       "<Figure size 432x288 with 1 Axes>"
      ]
     },
     "metadata": {
      "needs_background": "light"
     },
     "output_type": "display_data"
    },
    {
     "data": {
      "image/png": "[encoded data removed]",
      "text/plain": [
       "<Figure size 432x288 with 1 Axes>"
      ]
     },
     "metadata": {
      "needs_background": "light"
     },
     "output_type": "display_data"
    }
   ],
   "source": [
    "#plot_model(model, to_file='model.png')\n",
    "plt.plot(hist.history['acc'])\n",
    "plt.plot(hist.history['val_acc'])\n",
    "plt.title('model accuracy')\n",
    "plt.ylabel('accuracy')\n",
    "plt.xlabel('epoch')\n",
    "plt.legend(['train', 'validation'], loc='upper left')\n",
    "plt.show()\n",
    "\n",
    "plt.plot(hist.history['loss'])\n",
    "plt.plot(hist.history['val_loss'])\n",
    "plt.title('model loss')\n",
    "plt.ylabel('loss')\n",
    "plt.xlabel('epoch')\n",
    "plt.legend(['train', 'test'], loc='upper left')\n",
    "plt.show()"
   ]
  },
  {
   "cell_type": "code",
   "execution_count": 28,
   "metadata": {},
   "outputs": [
    {
     "name": "stdout",
     "output_type": "stream",
     "text": [
      "Accuracy: 95.08%\n",
      "F1 Score: 95.11\n",
      "              precision    recall  f1-score   support\n",
      "\n",
      "           0       0.97      0.95      0.96        40\n",
      "           1       0.91      0.95      0.93        21\n",
      "\n",
      "    accuracy                           0.95        61\n",
      "   macro avg       0.94      0.95      0.95        61\n",
      "weighted avg       0.95      0.95      0.95        61\n",
      "\n"
     ]
    }
   ],
   "source": [
    "from sklearn.metrics import  classification_report, confusion_matrix, accuracy_score, f1_score\n",
    "\n",
    "with tf.device('/device:GPU:1'):\n",
    "    labels_pred = model2.predict(data_test)\n",
    "    labels_pred = np.round(labels_pred.flatten())\n",
    "    accuracy = accuracy_score(y_test, labels_pred)\n",
    "    f1 = f1_score(y_test, labels_pred, average='weighted')\n",
    "\n",
    "    print(\"Accuracy: %.2f%%\" % (accuracy*100))\n",
    "    print(\"F1 Score: %.2f\" % (f1*100))\n",
    "\n",
    "    print(classification_report(y_test, labels_pred))"
   ]
  },
  {
   "cell_type": "code",
   "execution_count": 29,
   "metadata": {},
   "outputs": [],
   "source": [
    "model2.save('model/word2vec_LSTM-Suicide.h5')"
   ]
  },
  {
   "cell_type": "code",
   "execution_count": 45,
   "metadata": {},
   "outputs": [
    {
     "name": "stdout",
     "output_type": "stream",
     "text": [
      "Model: \"sequential_1\"\n",
      "_________________________________________________________________\n",
      "Layer (type)                 Output Shape              Param #   \n",
      "=================================================================\n",
      "embedding_1 (Embedding)      (None, 140, 300)          230400    \n",
      "_________________________________________________________________\n",
      "bidirectional_1 (Bidirection (None, 600)               1442400   \n",
      "_________________________________________________________________\n",
      "dropout_1 (Dropout)          (None, 600)               0         \n",
      "_________________________________________________________________\n",
      "dense_1 (Dense)              (None, 1)                 601       \n",
      "=================================================================\n",
      "Total params: 1,673,401\n",
      "Trainable params: 1,443,001\n",
      "Non-trainable params: 230,400\n",
      "_________________________________________________________________\n",
      "None\n"
     ]
    }
   ],
   "source": [
    "with tf.device('/device:GPU:1'):\n",
    "    model3 = Sequential()\n",
    "    # Embedded layer\n",
    "    model3.add(Embedding(len(embedding_matrix), EMBEDDING_DIM, weights=[embedding_matrix],\n",
    "                                input_length=MAX_SEQUENCE_LENGTH, trainable=False))\n",
    "    # Convolutional Layer\n",
    "    #model.add(Conv1D(filters=32, kernel_size=3, padding='same', activation='relu'))\n",
    "    #model.add(MaxPooling1D(pool_size=2))\n",
    "    #model.add(GlobalAveragePooling1D())\n",
    "    #model.add(Dropout(0.2))\n",
    "    #model.add(Dense(10, activation='relu'))\n",
    "    # LSTM Layer\n",
    "    model3.add(Bidirectional(LSTM(300)))\n",
    "    #model.add(GRU(300))\n",
    "    model3.add(Dropout(0.2))\n",
    "    model3.add(Dense(1, activation='sigmoid'))\n",
    "\n",
    "    model3.compile(loss='binary_crossentropy', optimizer='nadam', metrics=['acc'])\n",
    "    print(model3.summary())"
   ]
  },
  {
   "cell_type": "code",
   "execution_count": 46,
   "metadata": {},
   "outputs": [
    {
     "name": "stdout",
     "output_type": "stream",
     "text": [
      "Epoch 1/20\n",
      "7/7 [==============================] - 1s 81ms/step - loss: 0.7110 - acc: 0.5337 - val_loss: 0.6206 - val_acc: 0.8776\n",
      "Epoch 2/20\n",
      "7/7 [==============================] - 0s 23ms/step - loss: 0.6406 - acc: 0.7927 - val_loss: 0.5809 - val_acc: 0.7143\n",
      "Epoch 3/20\n",
      "7/7 [==============================] - 0s 22ms/step - loss: 0.5286 - acc: 0.7876 - val_loss: 0.6296 - val_acc: 0.5714\n",
      "Epoch 4/20\n",
      "7/7 [==============================] - 0s 20ms/step - loss: 0.4507 - acc: 0.8290 - val_loss: 0.4177 - val_acc: 0.8571\n",
      "Epoch 5/20\n",
      "7/7 [==============================] - 0s 21ms/step - loss: 0.3533 - acc: 0.9534 - val_loss: 0.8305 - val_acc: 0.6327\n",
      "Epoch 6/20\n",
      "7/7 [==============================] - 0s 20ms/step - loss: 0.3861 - acc: 0.8964 - val_loss: 0.3805 - val_acc: 0.8571\n",
      "Epoch 7/20\n",
      "7/7 [==============================] - 0s 21ms/step - loss: 0.2554 - acc: 0.9275 - val_loss: 0.3098 - val_acc: 0.8776\n",
      "Epoch 8/20\n",
      "7/7 [==============================] - 0s 21ms/step - loss: 0.1935 - acc: 0.9378 - val_loss: 0.4085 - val_acc: 0.8571\n",
      "Epoch 9/20\n",
      "7/7 [==============================] - 0s 20ms/step - loss: 0.3336 - acc: 0.8860 - val_loss: 0.4644 - val_acc: 0.7959\n",
      "Epoch 10/20\n",
      "7/7 [==============================] - 0s 21ms/step - loss: 0.4064 - acc: 0.8394 - val_loss: 0.3855 - val_acc: 0.8163\n"
     ]
    }
   ],
   "source": [
    "early_stop = EarlyStopping(monitor='val_loss', patience=3)\n",
    "#reduce_lr_on_plateau_cb = ReduceLROnPlateau(verbose = 1, factor=0.1, patience=2)\n",
    "\n",
    "with tf.device('/device:GPU:1'):\n",
    "    hist = model3.fit(data_train, y_train, validation_data=(data_val, y_val), epochs=20, batch_size=32, shuffle=True, callbacks=[early_stop])"
   ]
  },
  {
   "cell_type": "code",
   "execution_count": 47,
   "metadata": {},
   "outputs": [
    {
     "data": {
      "image/png": "[encoded data removed]",
      "text/plain": [
       "<Figure size 432x288 with 1 Axes>"
      ]
     },
     "metadata": {
      "needs_background": "light"
     },
     "output_type": "display_data"
    },
    {
     "data": {
      "image/png": "[encoded data removed]",
      "text/plain": [
       "<Figure size 432x288 with 1 Axes>"
      ]
     },
     "metadata": {
      "needs_background": "light"
     },
     "output_type": "display_data"
    }
   ],
   "source": [
    "#plot_model(model, to_file='model.png')\n",
    "plt.plot(hist.history['acc'])\n",
    "plt.plot(hist.history['val_acc'])\n",
    "plt.title('model accuracy')\n",
    "plt.ylabel('accuracy')\n",
    "plt.xlabel('epoch')\n",
    "plt.legend(['train', 'validation'], loc='upper left')\n",
    "plt.show()\n",
    "\n",
    "plt.plot(hist.history['loss'])\n",
    "plt.plot(hist.history['val_loss'])\n",
    "plt.title('model loss')\n",
    "plt.ylabel('loss')\n",
    "plt.xlabel('epoch')\n",
    "plt.legend(['train', 'test'], loc='upper left')\n",
    "plt.show()"
   ]
  },
  {
   "cell_type": "code",
   "execution_count": 48,
   "metadata": {},
   "outputs": [
    {
     "name": "stdout",
     "output_type": "stream",
     "text": [
      "Accuracy: 93.44%\n",
      "F1 Score: 93.44\n",
      "              precision    recall  f1-score   support\n",
      "\n",
      "           0       0.95      0.95      0.95        40\n",
      "           1       0.90      0.90      0.90        21\n",
      "\n",
      "    accuracy                           0.93        61\n",
      "   macro avg       0.93      0.93      0.93        61\n",
      "weighted avg       0.93      0.93      0.93        61\n",
      "\n"
     ]
    }
   ],
   "source": [
    "from sklearn.metrics import  classification_report, confusion_matrix, accuracy_score, f1_score\n",
    "\n",
    "with tf.device('/device:GPU:1'):\n",
    "    labels_pred = model3.predict(data_test)\n",
    "    labels_pred = np.round(labels_pred.flatten())\n",
    "    accuracy = accuracy_score(y_test, labels_pred)\n",
    "    f1 = f1_score(y_test, labels_pred, average='weighted')\n",
    "\n",
    "    print(\"Accuracy: %.2f%%\" % (accuracy*100))\n",
    "    print(\"F1 Score: %.2f\" % (f1*100))\n",
    "\n",
    "    print(classification_report(y_test, labels_pred))"
   ]
  },
  {
   "cell_type": "code",
   "execution_count": 49,
   "metadata": {},
   "outputs": [],
   "source": [
    "model3.save('model/word2vec_BiLSTM-Suicide.h5')"
   ]
  },
  {
   "cell_type": "code",
   "execution_count": null,
   "metadata": {},
   "outputs": [],
   "source": []
  }
 ],
 "metadata": {
  "kernelspec": {
   "display_name": "Python 3",
   "language": "python",
   "name": "python3"
  },
  "language_info": {
   "codemirror_mode": {
    "name": "ipython",
    "version": 3
   },
   "file_extension": ".py",
   "mimetype": "text/x-python",
   "name": "python",
   "nbconvert_exporter": "python",
   "pygments_lexer": "ipython3",
   "version": "3.8.3"
  }
 },
 "nbformat": 4,
 "nbformat_minor": 4
}
